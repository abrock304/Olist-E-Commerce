{
 "cells": [
  {
   "cell_type": "markdown",
   "id": "98a2bf83",
   "metadata": {},
   "source": [
    "## Machine Learning "
   ]
  },
  {
   "cell_type": "markdown",
   "id": "56fe40e6",
   "metadata": {},
   "source": [
    "#### 1. Import Libraries and Data\n",
    "#### 2. Data Cleaning\n",
    "#### 3. Data Preparation for Regression\n",
    "#### 4. Regression Analysis"
   ]
  },
  {
   "cell_type": "code",
   "execution_count": 2,
   "id": "ab163cb2",
   "metadata": {},
   "outputs": [],
   "source": [
    "# Import libraries\n",
    "import pandas as pd\n",
    "import numpy as np\n",
    "import seaborn as sns\n",
    "import matplotlib\n",
    "import matplotlib.pyplot as plt\n",
    "import os\n",
    "import sklearn\n",
    "from sklearn.model_selection import train_test_split \n",
    "from sklearn.linear_model import LinearRegression\n",
    "from sklearn.metrics import mean_squared_error, r2_score"
   ]
  },
  {
   "cell_type": "code",
   "execution_count": 3,
   "id": "f3757181",
   "metadata": {},
   "outputs": [
    {
     "data": {
      "text/plain": [
       "'/Users/abrockk12.wv.us/Documents/Career Foundry/Brazilian E_Commerce'"
      ]
     },
     "execution_count": 3,
     "metadata": {},
     "output_type": "execute_result"
    }
   ],
   "source": [
    "path = r'/Users/abrockk12.wv.us/Documents/Career Foundry/Brazilian E_Commerce'\n",
    "path"
   ]
  },
  {
   "cell_type": "code",
   "execution_count": 5,
   "id": "adf3d8c4",
   "metadata": {},
   "outputs": [],
   "source": [
    "# Import Data\n",
    "df = pd.read_pickle(os.path.join(path, 'e_commerce_cleaner.pkl'))"
   ]
  },
  {
   "cell_type": "code",
   "execution_count": 6,
   "id": "396d2bdc",
   "metadata": {},
   "outputs": [
    {
     "data": {
      "text/html": [
       "<div>\n",
       "<style scoped>\n",
       "    .dataframe tbody tr th:only-of-type {\n",
       "        vertical-align: middle;\n",
       "    }\n",
       "\n",
       "    .dataframe tbody tr th {\n",
       "        vertical-align: top;\n",
       "    }\n",
       "\n",
       "    .dataframe thead th {\n",
       "        text-align: right;\n",
       "    }\n",
       "</style>\n",
       "<table border=\"1\" class=\"dataframe\">\n",
       "  <thead>\n",
       "    <tr style=\"text-align: right;\">\n",
       "      <th></th>\n",
       "      <th>order_id</th>\n",
       "      <th>order_item_id</th>\n",
       "      <th>product_id</th>\n",
       "      <th>seller_id</th>\n",
       "      <th>shipping_limit_date</th>\n",
       "      <th>price</th>\n",
       "      <th>freight_value</th>\n",
       "      <th>payment_sequential</th>\n",
       "      <th>payment_type</th>\n",
       "      <th>payment_installments</th>\n",
       "      <th>...</th>\n",
       "      <th>declared_product_catalog_size</th>\n",
       "      <th>declared_monthly_revenue</th>\n",
       "      <th>first_contact_date</th>\n",
       "      <th>landing_page_id</th>\n",
       "      <th>origin</th>\n",
       "      <th>geolocation_city</th>\n",
       "      <th>geolocation_state</th>\n",
       "      <th>shipping_time</th>\n",
       "      <th>shipping_days</th>\n",
       "      <th>shipping_speed</th>\n",
       "    </tr>\n",
       "  </thead>\n",
       "  <tbody>\n",
       "    <tr>\n",
       "      <th>0</th>\n",
       "      <td>00010242fe8c5a6d1ba2dd792cb16214</td>\n",
       "      <td>1</td>\n",
       "      <td>4244733e06e7ecb4970a6e2683c13e61</td>\n",
       "      <td>48436dade18ac8b2bce089ec2a041202</td>\n",
       "      <td>2017-09-19 09:45:35</td>\n",
       "      <td>58.90</td>\n",
       "      <td>13.29</td>\n",
       "      <td>1.0</td>\n",
       "      <td>credit_card</td>\n",
       "      <td>2.0</td>\n",
       "      <td>...</td>\n",
       "      <td>NaN</td>\n",
       "      <td>NaN</td>\n",
       "      <td>NaT</td>\n",
       "      <td>nan</td>\n",
       "      <td>nan</td>\n",
       "      <td>campos dos goytacazes</td>\n",
       "      <td>RJ</td>\n",
       "      <td>8 days 01:58:13</td>\n",
       "      <td>8.0</td>\n",
       "      <td>Average Shipping</td>\n",
       "    </tr>\n",
       "    <tr>\n",
       "      <th>1</th>\n",
       "      <td>00018f77f2f0320c557190d7a144bdd3</td>\n",
       "      <td>1</td>\n",
       "      <td>e5f2d52b802189ee658865ca93d83a8f</td>\n",
       "      <td>dd7ddc04e1b6c2c614352b383efe2d36</td>\n",
       "      <td>2017-05-03 11:05:13</td>\n",
       "      <td>239.90</td>\n",
       "      <td>19.93</td>\n",
       "      <td>1.0</td>\n",
       "      <td>credit_card</td>\n",
       "      <td>3.0</td>\n",
       "      <td>...</td>\n",
       "      <td>NaN</td>\n",
       "      <td>NaN</td>\n",
       "      <td>NaT</td>\n",
       "      <td>nan</td>\n",
       "      <td>nan</td>\n",
       "      <td>santa fe do sul</td>\n",
       "      <td>SP</td>\n",
       "      <td>16 days 16:59:11</td>\n",
       "      <td>16.0</td>\n",
       "      <td>Slow Shipping</td>\n",
       "    </tr>\n",
       "    <tr>\n",
       "      <th>3</th>\n",
       "      <td>000229ec398224ef6ca0657da4fc703e</td>\n",
       "      <td>1</td>\n",
       "      <td>c777355d18b72b67abbeef9df44fd0fd</td>\n",
       "      <td>5b51032eddd242adc84c38acab88f23d</td>\n",
       "      <td>2018-01-18 14:48:30</td>\n",
       "      <td>199.00</td>\n",
       "      <td>17.87</td>\n",
       "      <td>1.0</td>\n",
       "      <td>credit_card</td>\n",
       "      <td>5.0</td>\n",
       "      <td>...</td>\n",
       "      <td>NaN</td>\n",
       "      <td>NaN</td>\n",
       "      <td>NaT</td>\n",
       "      <td>nan</td>\n",
       "      <td>nan</td>\n",
       "      <td>pará de minas</td>\n",
       "      <td>MG</td>\n",
       "      <td>8 days 10:30:46</td>\n",
       "      <td>8.0</td>\n",
       "      <td>Average Shipping</td>\n",
       "    </tr>\n",
       "    <tr>\n",
       "      <th>5</th>\n",
       "      <td>00024acbcdf0a6daa1e931b038114c75</td>\n",
       "      <td>1</td>\n",
       "      <td>7634da152a4610f1595efa32f14722fc</td>\n",
       "      <td>9d7a1d34a5052409006425275ba1c2b4</td>\n",
       "      <td>2018-08-15 10:10:18</td>\n",
       "      <td>12.99</td>\n",
       "      <td>12.79</td>\n",
       "      <td>1.0</td>\n",
       "      <td>credit_card</td>\n",
       "      <td>2.0</td>\n",
       "      <td>...</td>\n",
       "      <td>NaN</td>\n",
       "      <td>NaN</td>\n",
       "      <td>NaT</td>\n",
       "      <td>nan</td>\n",
       "      <td>nan</td>\n",
       "      <td>atibaia</td>\n",
       "      <td>SP</td>\n",
       "      <td>6 days 15:22:21</td>\n",
       "      <td>6.0</td>\n",
       "      <td>Quick Shipping</td>\n",
       "    </tr>\n",
       "    <tr>\n",
       "      <th>6</th>\n",
       "      <td>00042b26cf59d7ce69dfabb4e55b4fd9</td>\n",
       "      <td>1</td>\n",
       "      <td>ac6c3623068f30de03045865e4e10089</td>\n",
       "      <td>df560393f3a51e74553ab94004ba5c87</td>\n",
       "      <td>2017-02-13 13:57:51</td>\n",
       "      <td>199.90</td>\n",
       "      <td>18.14</td>\n",
       "      <td>1.0</td>\n",
       "      <td>credit_card</td>\n",
       "      <td>3.0</td>\n",
       "      <td>...</td>\n",
       "      <td>NaN</td>\n",
       "      <td>NaN</td>\n",
       "      <td>NaT</td>\n",
       "      <td>nan</td>\n",
       "      <td>nan</td>\n",
       "      <td>varzea paulista</td>\n",
       "      <td>SP</td>\n",
       "      <td>25 days 14:32:18</td>\n",
       "      <td>25.0</td>\n",
       "      <td>Slow Shipping</td>\n",
       "    </tr>\n",
       "  </tbody>\n",
       "</table>\n",
       "<p>5 rows × 57 columns</p>\n",
       "</div>"
      ],
      "text/plain": [
       "                           order_id  order_item_id  \\\n",
       "0  00010242fe8c5a6d1ba2dd792cb16214              1   \n",
       "1  00018f77f2f0320c557190d7a144bdd3              1   \n",
       "3  000229ec398224ef6ca0657da4fc703e              1   \n",
       "5  00024acbcdf0a6daa1e931b038114c75              1   \n",
       "6  00042b26cf59d7ce69dfabb4e55b4fd9              1   \n",
       "\n",
       "                         product_id                         seller_id  \\\n",
       "0  4244733e06e7ecb4970a6e2683c13e61  48436dade18ac8b2bce089ec2a041202   \n",
       "1  e5f2d52b802189ee658865ca93d83a8f  dd7ddc04e1b6c2c614352b383efe2d36   \n",
       "3  c777355d18b72b67abbeef9df44fd0fd  5b51032eddd242adc84c38acab88f23d   \n",
       "5  7634da152a4610f1595efa32f14722fc  9d7a1d34a5052409006425275ba1c2b4   \n",
       "6  ac6c3623068f30de03045865e4e10089  df560393f3a51e74553ab94004ba5c87   \n",
       "\n",
       "   shipping_limit_date   price  freight_value  payment_sequential  \\\n",
       "0  2017-09-19 09:45:35   58.90          13.29                 1.0   \n",
       "1  2017-05-03 11:05:13  239.90          19.93                 1.0   \n",
       "3  2018-01-18 14:48:30  199.00          17.87                 1.0   \n",
       "5  2018-08-15 10:10:18   12.99          12.79                 1.0   \n",
       "6  2017-02-13 13:57:51  199.90          18.14                 1.0   \n",
       "\n",
       "  payment_type  payment_installments  ...  declared_product_catalog_size  \\\n",
       "0  credit_card                   2.0  ...                            NaN   \n",
       "1  credit_card                   3.0  ...                            NaN   \n",
       "3  credit_card                   5.0  ...                            NaN   \n",
       "5  credit_card                   2.0  ...                            NaN   \n",
       "6  credit_card                   3.0  ...                            NaN   \n",
       "\n",
       "  declared_monthly_revenue  first_contact_date landing_page_id origin  \\\n",
       "0                      NaN                 NaT             nan    nan   \n",
       "1                      NaN                 NaT             nan    nan   \n",
       "3                      NaN                 NaT             nan    nan   \n",
       "5                      NaN                 NaT             nan    nan   \n",
       "6                      NaN                 NaT             nan    nan   \n",
       "\n",
       "        geolocation_city geolocation_state    shipping_time shipping_days  \\\n",
       "0  campos dos goytacazes                RJ  8 days 01:58:13           8.0   \n",
       "1        santa fe do sul                SP 16 days 16:59:11          16.0   \n",
       "3          pará de minas                MG  8 days 10:30:46           8.0   \n",
       "5                atibaia                SP  6 days 15:22:21           6.0   \n",
       "6        varzea paulista                SP 25 days 14:32:18          25.0   \n",
       "\n",
       "     shipping_speed  \n",
       "0  Average Shipping  \n",
       "1     Slow Shipping  \n",
       "3  Average Shipping  \n",
       "5    Quick Shipping  \n",
       "6     Slow Shipping  \n",
       "\n",
       "[5 rows x 57 columns]"
      ]
     },
     "execution_count": 6,
     "metadata": {},
     "output_type": "execute_result"
    }
   ],
   "source": [
    "df.head()"
   ]
  },
  {
   "cell_type": "code",
   "execution_count": 7,
   "id": "c7bbfe25",
   "metadata": {},
   "outputs": [],
   "source": [
    "%matplotlib inline"
   ]
  },
  {
   "cell_type": "code",
   "execution_count": 87,
   "id": "44bfc51c",
   "metadata": {},
   "outputs": [
    {
     "data": {
      "text/plain": [
       "order_id                                  object\n",
       "order_item_id                              int64\n",
       "product_id                                object\n",
       "seller_id                                 object\n",
       "shipping_limit_date                       object\n",
       "price                                    float64\n",
       "freight_value                            float64\n",
       "payment_sequential                       float64\n",
       "payment_type                              object\n",
       "payment_installments                     float64\n",
       "payment_value                            float64\n",
       "review_id                                 object\n",
       "review_score                             float64\n",
       "review_comment_title                      object\n",
       "review_comment_message                    object\n",
       "review_creation_date              datetime64[ns]\n",
       "review_answer_timestamp           datetime64[ns]\n",
       "customer_id                               object\n",
       "order_status                              object\n",
       "order_purchase_timestamp                  object\n",
       "order_approved_at                 datetime64[ns]\n",
       "order_delivered_carrier_date      datetime64[ns]\n",
       "order_delivered_customer_date     datetime64[ns]\n",
       "order_estimated_delivery_date             object\n",
       "product_category_name                     object\n",
       "product_name_length                      float64\n",
       "product_description_length               float64\n",
       "product_photos_qty                       float64\n",
       "product_weight_g                         float64\n",
       "product_length_cm                        float64\n",
       "product_height_cm                        float64\n",
       "product_width_cm                         float64\n",
       "seller_zip_code_prefix                     int64\n",
       "seller_city                               object\n",
       "seller_state                              object\n",
       "customer_unique_id                        object\n",
       "zip_code_prefix                            int64\n",
       "customer_city                             object\n",
       "customer_state                            object\n",
       "product_category_name_english             object\n",
       "mql_id                                    object\n",
       "sdr_id                                    object\n",
       "sr_id                                     object\n",
       "business_segment                          object\n",
       "lead_type                                 object\n",
       "lead_behaviour_profile                    object\n",
       "business_type                             object\n",
       "declared_product_catalog_size            float64\n",
       "declared_monthly_revenue                 float64\n",
       "first_contact_date                datetime64[ns]\n",
       "landing_page_id                           object\n",
       "origin                                    object\n",
       "geolocation_city                          object\n",
       "geolocation_state                         object\n",
       "shipping_time                    timedelta64[ns]\n",
       "shipping_days                            float64\n",
       "shipping_speed                            object\n",
       "dtype: object"
      ]
     },
     "execution_count": 87,
     "metadata": {},
     "output_type": "execute_result"
    }
   ],
   "source": [
    "df.dtypes"
   ]
  },
  {
   "cell_type": "code",
   "execution_count": 88,
   "id": "409aaa0d",
   "metadata": {},
   "outputs": [],
   "source": [
    "sub = df[['price', 'payment_value', 'payment_type', 'product_category_name_english', 'geolocation_state', 'shipping_speed', 'shipping_days', 'review_score', 'freight_value', 'product_length_cm', 'product_width_cm', 'product_weight_g', 'order_approved_at']]"
   ]
  },
  {
   "cell_type": "markdown",
   "id": "e7fb6733",
   "metadata": {},
   "source": [
    "### Data Cleaning"
   ]
  },
  {
   "cell_type": "code",
   "execution_count": 89,
   "id": "54488e9d",
   "metadata": {},
   "outputs": [
    {
     "data": {
      "text/plain": [
       "price                               0\n",
       "payment_value                       3\n",
       "payment_type                        0\n",
       "product_category_name_english       0\n",
       "geolocation_state                   0\n",
       "shipping_speed                      0\n",
       "shipping_days                       0\n",
       "review_score                      824\n",
       "freight_value                       0\n",
       "product_length_cm                1537\n",
       "product_width_cm                 1537\n",
       "product_weight_g                 1537\n",
       "order_approved_at                   0\n",
       "dtype: int64"
      ]
     },
     "execution_count": 89,
     "metadata": {},
     "output_type": "execute_result"
    }
   ],
   "source": [
    "# Check for nulls\n",
    "sub.isnull().sum()"
   ]
  },
  {
   "cell_type": "code",
   "execution_count": 90,
   "id": "76660baa",
   "metadata": {},
   "outputs": [
    {
     "name": "stderr",
     "output_type": "stream",
     "text": [
      "/var/folders/17/dzgpwljj3579pqd48l7mhty40000gn/T/ipykernel_91587/2407164516.py:1: SettingWithCopyWarning: \n",
      "A value is trying to be set on a copy of a slice from a DataFrame\n",
      "\n",
      "See the caveats in the documentation: https://pandas.pydata.org/pandas-docs/stable/user_guide/indexing.html#returning-a-view-versus-a-copy\n",
      "  sub['payment_value'].fillna(sub['payment_value'].median(), inplace = True)\n"
     ]
    }
   ],
   "source": [
    "sub['payment_value'].fillna(sub['payment_value'].median(), inplace = True)"
   ]
  },
  {
   "cell_type": "code",
   "execution_count": 91,
   "id": "634c3b70",
   "metadata": {},
   "outputs": [
    {
     "data": {
      "text/plain": [
       "price                               0\n",
       "payment_value                       0\n",
       "payment_type                        0\n",
       "product_category_name_english       0\n",
       "geolocation_state                   0\n",
       "shipping_speed                      0\n",
       "shipping_days                       0\n",
       "review_score                      824\n",
       "freight_value                       0\n",
       "product_length_cm                1537\n",
       "product_width_cm                 1537\n",
       "product_weight_g                 1537\n",
       "order_approved_at                   0\n",
       "dtype: int64"
      ]
     },
     "execution_count": 91,
     "metadata": {},
     "output_type": "execute_result"
    }
   ],
   "source": [
    "sub.isnull().sum() # Leave review_score null because not all customers leave a review score, or have product measurments"
   ]
  },
  {
   "cell_type": "markdown",
   "id": "aacf33dd",
   "metadata": {},
   "source": [
    "#### Duplicated Values"
   ]
  },
  {
   "cell_type": "code",
   "execution_count": 54,
   "id": "e5da8723",
   "metadata": {},
   "outputs": [],
   "source": [
    "# Check for duplicates\n",
    "dups = sub.duplicated()"
   ]
  },
  {
   "cell_type": "code",
   "execution_count": 92,
   "id": "d92a9594",
   "metadata": {},
   "outputs": [
    {
     "data": {
      "text/plain": [
       "(110027,)"
      ]
     },
     "execution_count": 92,
     "metadata": {},
     "output_type": "execute_result"
    }
   ],
   "source": [
    "dups.shape # No dups"
   ]
  },
  {
   "cell_type": "markdown",
   "id": "2fb52a48",
   "metadata": {},
   "source": [
    "#### Extreme Values"
   ]
  },
  {
   "cell_type": "code",
   "execution_count": 56,
   "id": "328eb9c4",
   "metadata": {},
   "outputs": [
    {
     "name": "stderr",
     "output_type": "stream",
     "text": [
      "/var/folders/17/dzgpwljj3579pqd48l7mhty40000gn/T/ipykernel_91587/3168889308.py:1: UserWarning: \n",
      "\n",
      "`distplot` is a deprecated function and will be removed in seaborn v0.14.0.\n",
      "\n",
      "Please adapt your code to use either `displot` (a figure-level function with\n",
      "similar flexibility) or `histplot` (an axes-level function for histograms).\n",
      "\n",
      "For a guide to updating your code to use the new functions, please see\n",
      "https://gist.github.com/mwaskom/de44147ed2974457ad6372750bbe5751\n",
      "\n",
      "  sns.distplot(sub['price'], bins = 60)\n",
      "/Users/abrockk12.wv.us/anaconda3/lib/python3.11/site-packages/seaborn/_oldcore.py:1498: FutureWarning: is_categorical_dtype is deprecated and will be removed in a future version. Use isinstance(dtype, CategoricalDtype) instead\n",
      "  if pd.api.types.is_categorical_dtype(vector):\n",
      "/Users/abrockk12.wv.us/anaconda3/lib/python3.11/site-packages/seaborn/_oldcore.py:1119: FutureWarning: use_inf_as_na option is deprecated and will be removed in a future version. Convert inf values to NaN before operating instead.\n",
      "  with pd.option_context('mode.use_inf_as_na', True):\n"
     ]
    },
    {
     "data": {
      "text/plain": [
       "<Axes: xlabel='price', ylabel='Density'>"
      ]
     },
     "execution_count": 56,
     "metadata": {},
     "output_type": "execute_result"
    },
    {
     "data": {
      "image/png": "[encoded data removed]",
      "text/plain": [
       "<Figure size 640x480 with 1 Axes>"
      ]
     },
     "metadata": {},
     "output_type": "display_data"
    }
   ],
   "source": [
    "sns.distplot(sub['price'], bins = 60)"
   ]
  },
  {
   "cell_type": "code",
   "execution_count": 93,
   "id": "abc58750",
   "metadata": {},
   "outputs": [
    {
     "name": "stderr",
     "output_type": "stream",
     "text": [
      "/var/folders/17/dzgpwljj3579pqd48l7mhty40000gn/T/ipykernel_91587/1268403444.py:1: SettingWithCopyWarning: \n",
      "A value is trying to be set on a copy of a slice from a DataFrame.\n",
      "Try using .loc[row_indexer,col_indexer] = value instead\n",
      "\n",
      "See the caveats in the documentation: https://pandas.pydata.org/pandas-docs/stable/user_guide/indexing.html#returning-a-view-versus-a-copy\n",
      "  sub['us_payment'] = sub['payment_value']/5\n"
     ]
    }
   ],
   "source": [
    "sub['us_payment'] = sub['payment_value']/5"
   ]
  },
  {
   "cell_type": "code",
   "execution_count": 94,
   "id": "2aeb3597",
   "metadata": {},
   "outputs": [
    {
     "data": {
      "text/html": [
       "<div>\n",
       "<style scoped>\n",
       "    .dataframe tbody tr th:only-of-type {\n",
       "        vertical-align: middle;\n",
       "    }\n",
       "\n",
       "    .dataframe tbody tr th {\n",
       "        vertical-align: top;\n",
       "    }\n",
       "\n",
       "    .dataframe thead th {\n",
       "        text-align: right;\n",
       "    }\n",
       "</style>\n",
       "<table border=\"1\" class=\"dataframe\">\n",
       "  <thead>\n",
       "    <tr style=\"text-align: right;\">\n",
       "      <th></th>\n",
       "      <th>price</th>\n",
       "      <th>payment_value</th>\n",
       "      <th>payment_type</th>\n",
       "      <th>product_category_name_english</th>\n",
       "      <th>geolocation_state</th>\n",
       "      <th>shipping_speed</th>\n",
       "      <th>shipping_days</th>\n",
       "      <th>review_score</th>\n",
       "      <th>freight_value</th>\n",
       "      <th>product_length_cm</th>\n",
       "      <th>product_width_cm</th>\n",
       "      <th>product_weight_g</th>\n",
       "      <th>order_approved_at</th>\n",
       "      <th>us_payment</th>\n",
       "    </tr>\n",
       "  </thead>\n",
       "  <tbody>\n",
       "    <tr>\n",
       "      <th>0</th>\n",
       "      <td>58.90</td>\n",
       "      <td>72.19</td>\n",
       "      <td>credit_card</td>\n",
       "      <td>cool_stuff</td>\n",
       "      <td>RJ</td>\n",
       "      <td>Average Shipping</td>\n",
       "      <td>8.0</td>\n",
       "      <td>5.0</td>\n",
       "      <td>13.29</td>\n",
       "      <td>28.0</td>\n",
       "      <td>14.0</td>\n",
       "      <td>650.0</td>\n",
       "      <td>2017-09-13 09:45:35</td>\n",
       "      <td>14.438</td>\n",
       "    </tr>\n",
       "    <tr>\n",
       "      <th>1</th>\n",
       "      <td>239.90</td>\n",
       "      <td>259.83</td>\n",
       "      <td>credit_card</td>\n",
       "      <td>pet_shop</td>\n",
       "      <td>SP</td>\n",
       "      <td>Slow Shipping</td>\n",
       "      <td>16.0</td>\n",
       "      <td>4.0</td>\n",
       "      <td>19.93</td>\n",
       "      <td>50.0</td>\n",
       "      <td>40.0</td>\n",
       "      <td>30000.0</td>\n",
       "      <td>2017-04-26 11:05:13</td>\n",
       "      <td>51.966</td>\n",
       "    </tr>\n",
       "    <tr>\n",
       "      <th>3</th>\n",
       "      <td>199.00</td>\n",
       "      <td>216.87</td>\n",
       "      <td>credit_card</td>\n",
       "      <td>furniture_decor</td>\n",
       "      <td>MG</td>\n",
       "      <td>Average Shipping</td>\n",
       "      <td>8.0</td>\n",
       "      <td>5.0</td>\n",
       "      <td>17.87</td>\n",
       "      <td>33.0</td>\n",
       "      <td>33.0</td>\n",
       "      <td>3050.0</td>\n",
       "      <td>2018-01-14 14:48:30</td>\n",
       "      <td>43.374</td>\n",
       "    </tr>\n",
       "    <tr>\n",
       "      <th>5</th>\n",
       "      <td>12.99</td>\n",
       "      <td>25.78</td>\n",
       "      <td>credit_card</td>\n",
       "      <td>perfumery</td>\n",
       "      <td>SP</td>\n",
       "      <td>Quick Shipping</td>\n",
       "      <td>6.0</td>\n",
       "      <td>4.0</td>\n",
       "      <td>12.79</td>\n",
       "      <td>16.0</td>\n",
       "      <td>15.0</td>\n",
       "      <td>200.0</td>\n",
       "      <td>2018-08-08 10:10:18</td>\n",
       "      <td>5.156</td>\n",
       "    </tr>\n",
       "    <tr>\n",
       "      <th>6</th>\n",
       "      <td>199.90</td>\n",
       "      <td>218.04</td>\n",
       "      <td>credit_card</td>\n",
       "      <td>garden_tools</td>\n",
       "      <td>SP</td>\n",
       "      <td>Slow Shipping</td>\n",
       "      <td>25.0</td>\n",
       "      <td>5.0</td>\n",
       "      <td>18.14</td>\n",
       "      <td>35.0</td>\n",
       "      <td>30.0</td>\n",
       "      <td>3750.0</td>\n",
       "      <td>2017-02-04 14:10:13</td>\n",
       "      <td>43.608</td>\n",
       "    </tr>\n",
       "    <tr>\n",
       "      <th>...</th>\n",
       "      <td>...</td>\n",
       "      <td>...</td>\n",
       "      <td>...</td>\n",
       "      <td>...</td>\n",
       "      <td>...</td>\n",
       "      <td>...</td>\n",
       "      <td>...</td>\n",
       "      <td>...</td>\n",
       "      <td>...</td>\n",
       "      <td>...</td>\n",
       "      <td>...</td>\n",
       "      <td>...</td>\n",
       "      <td>...</td>\n",
       "      <td>...</td>\n",
       "    </tr>\n",
       "    <tr>\n",
       "      <th>177468</th>\n",
       "      <td>299.99</td>\n",
       "      <td>343.40</td>\n",
       "      <td>boleto</td>\n",
       "      <td>housewares</td>\n",
       "      <td>MA</td>\n",
       "      <td>Slow Shipping</td>\n",
       "      <td>16.0</td>\n",
       "      <td>5.0</td>\n",
       "      <td>43.41</td>\n",
       "      <td>89.0</td>\n",
       "      <td>40.0</td>\n",
       "      <td>10150.0</td>\n",
       "      <td>2018-04-25 04:11:01</td>\n",
       "      <td>68.680</td>\n",
       "    </tr>\n",
       "    <tr>\n",
       "      <th>177470</th>\n",
       "      <td>350.00</td>\n",
       "      <td>386.53</td>\n",
       "      <td>boleto</td>\n",
       "      <td>computers_accessories</td>\n",
       "      <td>PR</td>\n",
       "      <td>Quick Shipping</td>\n",
       "      <td>7.0</td>\n",
       "      <td>5.0</td>\n",
       "      <td>36.53</td>\n",
       "      <td>45.0</td>\n",
       "      <td>38.0</td>\n",
       "      <td>8950.0</td>\n",
       "      <td>2018-07-17 04:31:48</td>\n",
       "      <td>77.306</td>\n",
       "    </tr>\n",
       "    <tr>\n",
       "      <th>177471</th>\n",
       "      <td>99.90</td>\n",
       "      <td>116.85</td>\n",
       "      <td>credit_card</td>\n",
       "      <td>sports_leisure</td>\n",
       "      <td>SP</td>\n",
       "      <td>Quick Shipping</td>\n",
       "      <td>4.0</td>\n",
       "      <td>5.0</td>\n",
       "      <td>16.95</td>\n",
       "      <td>21.0</td>\n",
       "      <td>19.0</td>\n",
       "      <td>967.0</td>\n",
       "      <td>2017-10-24 17:14:25</td>\n",
       "      <td>23.370</td>\n",
       "    </tr>\n",
       "    <tr>\n",
       "      <th>177473</th>\n",
       "      <td>55.99</td>\n",
       "      <td>64.71</td>\n",
       "      <td>credit_card</td>\n",
       "      <td>computers_accessories</td>\n",
       "      <td>SP</td>\n",
       "      <td>Quick Shipping</td>\n",
       "      <td>2.0</td>\n",
       "      <td>5.0</td>\n",
       "      <td>8.72</td>\n",
       "      <td>20.0</td>\n",
       "      <td>20.0</td>\n",
       "      <td>100.0</td>\n",
       "      <td>2017-08-15 00:04:32</td>\n",
       "      <td>12.942</td>\n",
       "    </tr>\n",
       "    <tr>\n",
       "      <th>177474</th>\n",
       "      <td>43.00</td>\n",
       "      <td>55.79</td>\n",
       "      <td>credit_card</td>\n",
       "      <td>bed_bath_table</td>\n",
       "      <td>SP</td>\n",
       "      <td>Quick Shipping</td>\n",
       "      <td>5.0</td>\n",
       "      <td>5.0</td>\n",
       "      <td>12.79</td>\n",
       "      <td>30.0</td>\n",
       "      <td>19.0</td>\n",
       "      <td>600.0</td>\n",
       "      <td>2018-06-09 17:10:13</td>\n",
       "      <td>11.158</td>\n",
       "    </tr>\n",
       "  </tbody>\n",
       "</table>\n",
       "<p>110006 rows × 14 columns</p>\n",
       "</div>"
      ],
      "text/plain": [
       "         price  payment_value payment_type product_category_name_english  \\\n",
       "0        58.90          72.19  credit_card                    cool_stuff   \n",
       "1       239.90         259.83  credit_card                      pet_shop   \n",
       "3       199.00         216.87  credit_card               furniture_decor   \n",
       "5        12.99          25.78  credit_card                     perfumery   \n",
       "6       199.90         218.04  credit_card                  garden_tools   \n",
       "...        ...            ...          ...                           ...   \n",
       "177468  299.99         343.40       boleto                    housewares   \n",
       "177470  350.00         386.53       boleto         computers_accessories   \n",
       "177471   99.90         116.85  credit_card                sports_leisure   \n",
       "177473   55.99          64.71  credit_card         computers_accessories   \n",
       "177474   43.00          55.79  credit_card                bed_bath_table   \n",
       "\n",
       "       geolocation_state    shipping_speed  shipping_days  review_score  \\\n",
       "0                     RJ  Average Shipping            8.0           5.0   \n",
       "1                     SP     Slow Shipping           16.0           4.0   \n",
       "3                     MG  Average Shipping            8.0           5.0   \n",
       "5                     SP    Quick Shipping            6.0           4.0   \n",
       "6                     SP     Slow Shipping           25.0           5.0   \n",
       "...                  ...               ...            ...           ...   \n",
       "177468                MA     Slow Shipping           16.0           5.0   \n",
       "177470                PR    Quick Shipping            7.0           5.0   \n",
       "177471                SP    Quick Shipping            4.0           5.0   \n",
       "177473                SP    Quick Shipping            2.0           5.0   \n",
       "177474                SP    Quick Shipping            5.0           5.0   \n",
       "\n",
       "        freight_value  product_length_cm  product_width_cm  product_weight_g  \\\n",
       "0               13.29               28.0              14.0             650.0   \n",
       "1               19.93               50.0              40.0           30000.0   \n",
       "3               17.87               33.0              33.0            3050.0   \n",
       "5               12.79               16.0              15.0             200.0   \n",
       "6               18.14               35.0              30.0            3750.0   \n",
       "...               ...                ...               ...               ...   \n",
       "177468          43.41               89.0              40.0           10150.0   \n",
       "177470          36.53               45.0              38.0            8950.0   \n",
       "177471          16.95               21.0              19.0             967.0   \n",
       "177473           8.72               20.0              20.0             100.0   \n",
       "177474          12.79               30.0              19.0             600.0   \n",
       "\n",
       "         order_approved_at  us_payment  \n",
       "0      2017-09-13 09:45:35      14.438  \n",
       "1      2017-04-26 11:05:13      51.966  \n",
       "3      2018-01-14 14:48:30      43.374  \n",
       "5      2018-08-08 10:10:18       5.156  \n",
       "6      2017-02-04 14:10:13      43.608  \n",
       "...                    ...         ...  \n",
       "177468 2018-04-25 04:11:01      68.680  \n",
       "177470 2018-07-17 04:31:48      77.306  \n",
       "177471 2017-10-24 17:14:25      23.370  \n",
       "177473 2017-08-15 00:04:32      12.942  \n",
       "177474 2018-06-09 17:10:13      11.158  \n",
       "\n",
       "[110006 rows x 14 columns]"
      ]
     },
     "execution_count": 94,
     "metadata": {},
     "output_type": "execute_result"
    }
   ],
   "source": [
    "no_extreme_values = sub[sub['us_payment']<1000]\n",
    "no_extreme_values"
   ]
  },
  {
   "cell_type": "code",
   "execution_count": 95,
   "id": "b53868f5",
   "metadata": {},
   "outputs": [
    {
     "name": "stderr",
     "output_type": "stream",
     "text": [
      "/Users/abrockk12.wv.us/anaconda3/lib/python3.11/site-packages/seaborn/_oldcore.py:1498: FutureWarning: is_categorical_dtype is deprecated and will be removed in a future version. Use isinstance(dtype, CategoricalDtype) instead\n",
      "  if pd.api.types.is_categorical_dtype(vector):\n",
      "/Users/abrockk12.wv.us/anaconda3/lib/python3.11/site-packages/seaborn/_oldcore.py:1119: FutureWarning: use_inf_as_na option is deprecated and will be removed in a future version. Convert inf values to NaN before operating instead.\n",
      "  with pd.option_context('mode.use_inf_as_na', True):\n"
     ]
    },
    {
     "data": {
      "text/plain": [
       "<Axes: xlabel='us_payment', ylabel='Count'>"
      ]
     },
     "execution_count": 95,
     "metadata": {},
     "output_type": "execute_result"
    },
    {
     "data": {
      "image/png": "[encoded data removed]",
      "text/plain": [
       "<Figure size 640x480 with 1 Axes>"
      ]
     },
     "metadata": {},
     "output_type": "display_data"
    }
   ],
   "source": [
    "sns.histplot(no_extreme_values['us_payment'], bins = 25)"
   ]
  },
  {
   "cell_type": "code",
   "execution_count": 96,
   "id": "e42da1cc",
   "metadata": {},
   "outputs": [
    {
     "data": {
      "text/html": [
       "<div>\n",
       "<style scoped>\n",
       "    .dataframe tbody tr th:only-of-type {\n",
       "        vertical-align: middle;\n",
       "    }\n",
       "\n",
       "    .dataframe tbody tr th {\n",
       "        vertical-align: top;\n",
       "    }\n",
       "\n",
       "    .dataframe thead th {\n",
       "        text-align: right;\n",
       "    }\n",
       "</style>\n",
       "<table border=\"1\" class=\"dataframe\">\n",
       "  <thead>\n",
       "    <tr style=\"text-align: right;\">\n",
       "      <th></th>\n",
       "      <th>price</th>\n",
       "      <th>payment_value</th>\n",
       "      <th>payment_type</th>\n",
       "      <th>product_category_name_english</th>\n",
       "      <th>geolocation_state</th>\n",
       "      <th>shipping_speed</th>\n",
       "      <th>shipping_days</th>\n",
       "      <th>review_score</th>\n",
       "      <th>freight_value</th>\n",
       "      <th>product_length_cm</th>\n",
       "      <th>product_width_cm</th>\n",
       "      <th>product_weight_g</th>\n",
       "      <th>order_approved_at</th>\n",
       "      <th>us_payment</th>\n",
       "    </tr>\n",
       "  </thead>\n",
       "  <tbody>\n",
       "    <tr>\n",
       "      <th>0</th>\n",
       "      <td>58.90</td>\n",
       "      <td>72.19</td>\n",
       "      <td>credit_card</td>\n",
       "      <td>cool_stuff</td>\n",
       "      <td>RJ</td>\n",
       "      <td>Average Shipping</td>\n",
       "      <td>8.0</td>\n",
       "      <td>5.0</td>\n",
       "      <td>13.29</td>\n",
       "      <td>28.0</td>\n",
       "      <td>14.0</td>\n",
       "      <td>650.0</td>\n",
       "      <td>2017-09-13 09:45:35</td>\n",
       "      <td>14.438</td>\n",
       "    </tr>\n",
       "    <tr>\n",
       "      <th>1</th>\n",
       "      <td>239.90</td>\n",
       "      <td>259.83</td>\n",
       "      <td>credit_card</td>\n",
       "      <td>pet_shop</td>\n",
       "      <td>SP</td>\n",
       "      <td>Slow Shipping</td>\n",
       "      <td>16.0</td>\n",
       "      <td>4.0</td>\n",
       "      <td>19.93</td>\n",
       "      <td>50.0</td>\n",
       "      <td>40.0</td>\n",
       "      <td>30000.0</td>\n",
       "      <td>2017-04-26 11:05:13</td>\n",
       "      <td>51.966</td>\n",
       "    </tr>\n",
       "    <tr>\n",
       "      <th>3</th>\n",
       "      <td>199.00</td>\n",
       "      <td>216.87</td>\n",
       "      <td>credit_card</td>\n",
       "      <td>furniture_decor</td>\n",
       "      <td>MG</td>\n",
       "      <td>Average Shipping</td>\n",
       "      <td>8.0</td>\n",
       "      <td>5.0</td>\n",
       "      <td>17.87</td>\n",
       "      <td>33.0</td>\n",
       "      <td>33.0</td>\n",
       "      <td>3050.0</td>\n",
       "      <td>2018-01-14 14:48:30</td>\n",
       "      <td>43.374</td>\n",
       "    </tr>\n",
       "    <tr>\n",
       "      <th>5</th>\n",
       "      <td>12.99</td>\n",
       "      <td>25.78</td>\n",
       "      <td>credit_card</td>\n",
       "      <td>perfumery</td>\n",
       "      <td>SP</td>\n",
       "      <td>Quick Shipping</td>\n",
       "      <td>6.0</td>\n",
       "      <td>4.0</td>\n",
       "      <td>12.79</td>\n",
       "      <td>16.0</td>\n",
       "      <td>15.0</td>\n",
       "      <td>200.0</td>\n",
       "      <td>2018-08-08 10:10:18</td>\n",
       "      <td>5.156</td>\n",
       "    </tr>\n",
       "    <tr>\n",
       "      <th>6</th>\n",
       "      <td>199.90</td>\n",
       "      <td>218.04</td>\n",
       "      <td>credit_card</td>\n",
       "      <td>garden_tools</td>\n",
       "      <td>SP</td>\n",
       "      <td>Slow Shipping</td>\n",
       "      <td>25.0</td>\n",
       "      <td>5.0</td>\n",
       "      <td>18.14</td>\n",
       "      <td>35.0</td>\n",
       "      <td>30.0</td>\n",
       "      <td>3750.0</td>\n",
       "      <td>2017-02-04 14:10:13</td>\n",
       "      <td>43.608</td>\n",
       "    </tr>\n",
       "    <tr>\n",
       "      <th>...</th>\n",
       "      <td>...</td>\n",
       "      <td>...</td>\n",
       "      <td>...</td>\n",
       "      <td>...</td>\n",
       "      <td>...</td>\n",
       "      <td>...</td>\n",
       "      <td>...</td>\n",
       "      <td>...</td>\n",
       "      <td>...</td>\n",
       "      <td>...</td>\n",
       "      <td>...</td>\n",
       "      <td>...</td>\n",
       "      <td>...</td>\n",
       "      <td>...</td>\n",
       "    </tr>\n",
       "    <tr>\n",
       "      <th>177468</th>\n",
       "      <td>299.99</td>\n",
       "      <td>343.40</td>\n",
       "      <td>boleto</td>\n",
       "      <td>housewares</td>\n",
       "      <td>MA</td>\n",
       "      <td>Slow Shipping</td>\n",
       "      <td>16.0</td>\n",
       "      <td>5.0</td>\n",
       "      <td>43.41</td>\n",
       "      <td>89.0</td>\n",
       "      <td>40.0</td>\n",
       "      <td>10150.0</td>\n",
       "      <td>2018-04-25 04:11:01</td>\n",
       "      <td>68.680</td>\n",
       "    </tr>\n",
       "    <tr>\n",
       "      <th>177470</th>\n",
       "      <td>350.00</td>\n",
       "      <td>386.53</td>\n",
       "      <td>boleto</td>\n",
       "      <td>computers_accessories</td>\n",
       "      <td>PR</td>\n",
       "      <td>Quick Shipping</td>\n",
       "      <td>7.0</td>\n",
       "      <td>5.0</td>\n",
       "      <td>36.53</td>\n",
       "      <td>45.0</td>\n",
       "      <td>38.0</td>\n",
       "      <td>8950.0</td>\n",
       "      <td>2018-07-17 04:31:48</td>\n",
       "      <td>77.306</td>\n",
       "    </tr>\n",
       "    <tr>\n",
       "      <th>177471</th>\n",
       "      <td>99.90</td>\n",
       "      <td>116.85</td>\n",
       "      <td>credit_card</td>\n",
       "      <td>sports_leisure</td>\n",
       "      <td>SP</td>\n",
       "      <td>Quick Shipping</td>\n",
       "      <td>4.0</td>\n",
       "      <td>5.0</td>\n",
       "      <td>16.95</td>\n",
       "      <td>21.0</td>\n",
       "      <td>19.0</td>\n",
       "      <td>967.0</td>\n",
       "      <td>2017-10-24 17:14:25</td>\n",
       "      <td>23.370</td>\n",
       "    </tr>\n",
       "    <tr>\n",
       "      <th>177473</th>\n",
       "      <td>55.99</td>\n",
       "      <td>64.71</td>\n",
       "      <td>credit_card</td>\n",
       "      <td>computers_accessories</td>\n",
       "      <td>SP</td>\n",
       "      <td>Quick Shipping</td>\n",
       "      <td>2.0</td>\n",
       "      <td>5.0</td>\n",
       "      <td>8.72</td>\n",
       "      <td>20.0</td>\n",
       "      <td>20.0</td>\n",
       "      <td>100.0</td>\n",
       "      <td>2017-08-15 00:04:32</td>\n",
       "      <td>12.942</td>\n",
       "    </tr>\n",
       "    <tr>\n",
       "      <th>177474</th>\n",
       "      <td>43.00</td>\n",
       "      <td>55.79</td>\n",
       "      <td>credit_card</td>\n",
       "      <td>bed_bath_table</td>\n",
       "      <td>SP</td>\n",
       "      <td>Quick Shipping</td>\n",
       "      <td>5.0</td>\n",
       "      <td>5.0</td>\n",
       "      <td>12.79</td>\n",
       "      <td>30.0</td>\n",
       "      <td>19.0</td>\n",
       "      <td>600.0</td>\n",
       "      <td>2018-06-09 17:10:13</td>\n",
       "      <td>11.158</td>\n",
       "    </tr>\n",
       "  </tbody>\n",
       "</table>\n",
       "<p>110027 rows × 14 columns</p>\n",
       "</div>"
      ],
      "text/plain": [
       "         price  payment_value payment_type product_category_name_english  \\\n",
       "0        58.90          72.19  credit_card                    cool_stuff   \n",
       "1       239.90         259.83  credit_card                      pet_shop   \n",
       "3       199.00         216.87  credit_card               furniture_decor   \n",
       "5        12.99          25.78  credit_card                     perfumery   \n",
       "6       199.90         218.04  credit_card                  garden_tools   \n",
       "...        ...            ...          ...                           ...   \n",
       "177468  299.99         343.40       boleto                    housewares   \n",
       "177470  350.00         386.53       boleto         computers_accessories   \n",
       "177471   99.90         116.85  credit_card                sports_leisure   \n",
       "177473   55.99          64.71  credit_card         computers_accessories   \n",
       "177474   43.00          55.79  credit_card                bed_bath_table   \n",
       "\n",
       "       geolocation_state    shipping_speed  shipping_days  review_score  \\\n",
       "0                     RJ  Average Shipping            8.0           5.0   \n",
       "1                     SP     Slow Shipping           16.0           4.0   \n",
       "3                     MG  Average Shipping            8.0           5.0   \n",
       "5                     SP    Quick Shipping            6.0           4.0   \n",
       "6                     SP     Slow Shipping           25.0           5.0   \n",
       "...                  ...               ...            ...           ...   \n",
       "177468                MA     Slow Shipping           16.0           5.0   \n",
       "177470                PR    Quick Shipping            7.0           5.0   \n",
       "177471                SP    Quick Shipping            4.0           5.0   \n",
       "177473                SP    Quick Shipping            2.0           5.0   \n",
       "177474                SP    Quick Shipping            5.0           5.0   \n",
       "\n",
       "        freight_value  product_length_cm  product_width_cm  product_weight_g  \\\n",
       "0               13.29               28.0              14.0             650.0   \n",
       "1               19.93               50.0              40.0           30000.0   \n",
       "3               17.87               33.0              33.0            3050.0   \n",
       "5               12.79               16.0              15.0             200.0   \n",
       "6               18.14               35.0              30.0            3750.0   \n",
       "...               ...                ...               ...               ...   \n",
       "177468          43.41               89.0              40.0           10150.0   \n",
       "177470          36.53               45.0              38.0            8950.0   \n",
       "177471          16.95               21.0              19.0             967.0   \n",
       "177473           8.72               20.0              20.0             100.0   \n",
       "177474          12.79               30.0              19.0             600.0   \n",
       "\n",
       "         order_approved_at  us_payment  \n",
       "0      2017-09-13 09:45:35      14.438  \n",
       "1      2017-04-26 11:05:13      51.966  \n",
       "3      2018-01-14 14:48:30      43.374  \n",
       "5      2018-08-08 10:10:18       5.156  \n",
       "6      2017-02-04 14:10:13      43.608  \n",
       "...                    ...         ...  \n",
       "177468 2018-04-25 04:11:01      68.680  \n",
       "177470 2018-07-17 04:31:48      77.306  \n",
       "177471 2017-10-24 17:14:25      23.370  \n",
       "177473 2017-08-15 00:04:32      12.942  \n",
       "177474 2018-06-09 17:10:13      11.158  \n",
       "\n",
       "[110027 rows x 14 columns]"
      ]
     },
     "execution_count": 96,
     "metadata": {},
     "output_type": "execute_result"
    }
   ],
   "source": [
    "sub"
   ]
  },
  {
   "cell_type": "code",
   "execution_count": 62,
   "id": "8a66033d",
   "metadata": {},
   "outputs": [
    {
     "data": {
      "text/plain": [
       "35.36195313877503"
      ]
     },
     "execution_count": 62,
     "metadata": {},
     "output_type": "execute_result"
    }
   ],
   "source": [
    "sub['us_payment'].mean() # Check mean"
   ]
  },
  {
   "cell_type": "code",
   "execution_count": 63,
   "id": "5f887f12",
   "metadata": {},
   "outputs": [
    {
     "data": {
      "text/plain": [
       "22.484"
      ]
     },
     "execution_count": 63,
     "metadata": {},
     "output_type": "execute_result"
    }
   ],
   "source": [
    "sub['us_payment'].median() # Check median"
   ]
  },
  {
   "cell_type": "code",
   "execution_count": 64,
   "id": "9bc33b02",
   "metadata": {},
   "outputs": [
    {
     "data": {
      "text/plain": [
       "2732.816"
      ]
     },
     "execution_count": 64,
     "metadata": {},
     "output_type": "execute_result"
    }
   ],
   "source": [
    "sub['us_payment'].max() # Check max"
   ]
  },
  {
   "cell_type": "markdown",
   "id": "12b0d982",
   "metadata": {},
   "source": [
    "#### Data Prep for Regression Analysis"
   ]
  },
  {
   "cell_type": "code",
   "execution_count": 141,
   "id": "68017123",
   "metadata": {},
   "outputs": [
    {
     "data": {
      "image/png": "[encoded data removed]",
      "text/plain": [
       "<Figure size 640x480 with 1 Axes>"
      ]
     },
     "metadata": {},
     "output_type": "display_data"
    }
   ],
   "source": [
    "# Create a scatterplot using matplotlib\n",
    "sub.plot(x = 'price', y = 'freight_value', style = 'o')\n",
    "plt.title('Freight Cost')\n",
    "plt.xlabel('Price')\n",
    "plt.ylabel('Freight Cost')\n",
    "plt.show()"
   ]
  },
  {
   "cell_type": "markdown",
   "id": "db29d41d",
   "metadata": {},
   "source": [
    "#### Hypothesis\n",
    "The higher the price, the higher the feight cost."
   ]
  },
  {
   "cell_type": "code",
   "execution_count": 120,
   "id": "40fbd1ff",
   "metadata": {},
   "outputs": [],
   "source": [
    "# Reshape the variables into NumPy arrays\n",
    "X = sub['price'].values.reshape(-1,1)\n",
    "y = sub['freight_value'].values.reshape(-1,1)"
   ]
  },
  {
   "cell_type": "code",
   "execution_count": 121,
   "id": "7961a2ea",
   "metadata": {},
   "outputs": [
    {
     "data": {
      "text/plain": [
       "array([[ 58.9 ],\n",
       "       [239.9 ],\n",
       "       [199.  ],\n",
       "       ...,\n",
       "       [ 99.9 ],\n",
       "       [ 55.99],\n",
       "       [ 43.  ]])"
      ]
     },
     "execution_count": 121,
     "metadata": {},
     "output_type": "execute_result"
    }
   ],
   "source": [
    "X"
   ]
  },
  {
   "cell_type": "code",
   "execution_count": 111,
   "id": "aadb7c1e",
   "metadata": {},
   "outputs": [
    {
     "data": {
      "text/plain": [
       "array([[13.29],\n",
       "       [19.93],\n",
       "       [17.87],\n",
       "       ...,\n",
       "       [16.95],\n",
       "       [ 8.72],\n",
       "       [12.79]])"
      ]
     },
     "execution_count": 111,
     "metadata": {},
     "output_type": "execute_result"
    }
   ],
   "source": [
    "y"
   ]
  },
  {
   "cell_type": "code",
   "execution_count": 122,
   "id": "3524a2fc",
   "metadata": {},
   "outputs": [],
   "source": [
    "# Split data into a training set and a test set\n",
    "X_train, X_test, y_train, y_test = train_test_split(X, y, test_size=0.3, random_state=0)"
   ]
  },
  {
   "cell_type": "markdown",
   "id": "f22a102b",
   "metadata": {},
   "source": [
    "#### Regression Analysis"
   ]
  },
  {
   "cell_type": "code",
   "execution_count": 123,
   "id": "6466b5dc",
   "metadata": {},
   "outputs": [],
   "source": [
    "# Create a regression object\n",
    "regression = LinearRegression()"
   ]
  },
  {
   "cell_type": "code",
   "execution_count": 124,
   "id": "312a5c47",
   "metadata": {},
   "outputs": [
    {
     "data": {
      "text/html": [
       "<style>#sk-container-id-2 {color: black;}#sk-container-id-2 pre{padding: 0;}#sk-container-id-2 div.sk-toggleable {background-color: white;}#sk-container-id-2 label.sk-toggleable__label {cursor: pointer;display: block;width: 100%;margin-bottom: 0;padding: 0.3em;box-sizing: border-box;text-align: center;}#sk-container-id-2 label.sk-toggleable__label-arrow:before {content: \"▸\";float: left;margin-right: 0.25em;color: #696969;}#sk-container-id-2 label.sk-toggleable__label-arrow:hover:before {color: black;}#sk-container-id-2 div.sk-estimator:hover label.sk-toggleable__label-arrow:before {color: black;}#sk-container-id-2 div.sk-toggleable__content {max-height: 0;max-width: 0;overflow: hidden;text-align: left;background-color: #f0f8ff;}#sk-container-id-2 div.sk-toggleable__content pre {margin: 0.2em;color: black;border-radius: 0.25em;background-color: #f0f8ff;}#sk-container-id-2 input.sk-toggleable__control:checked~div.sk-toggleable__content {max-height: 200px;max-width: 100%;overflow: auto;}#sk-container-id-2 input.sk-toggleable__control:checked~label.sk-toggleable__label-arrow:before {content: \"▾\";}#sk-container-id-2 div.sk-estimator input.sk-toggleable__control:checked~label.sk-toggleable__label {background-color: #d4ebff;}#sk-container-id-2 div.sk-label input.sk-toggleable__control:checked~label.sk-toggleable__label {background-color: #d4ebff;}#sk-container-id-2 input.sk-hidden--visually {border: 0;clip: rect(1px 1px 1px 1px);clip: rect(1px, 1px, 1px, 1px);height: 1px;margin: -1px;overflow: hidden;padding: 0;position: absolute;width: 1px;}#sk-container-id-2 div.sk-estimator {font-family: monospace;background-color: #f0f8ff;border: 1px dotted black;border-radius: 0.25em;box-sizing: border-box;margin-bottom: 0.5em;}#sk-container-id-2 div.sk-estimator:hover {background-color: #d4ebff;}#sk-container-id-2 div.sk-parallel-item::after {content: \"\";width: 100%;border-bottom: 1px solid gray;flex-grow: 1;}#sk-container-id-2 div.sk-label:hover label.sk-toggleable__label {background-color: #d4ebff;}#sk-container-id-2 div.sk-serial::before {content: \"\";position: absolute;border-left: 1px solid gray;box-sizing: border-box;top: 0;bottom: 0;left: 50%;z-index: 0;}#sk-container-id-2 div.sk-serial {display: flex;flex-direction: column;align-items: center;background-color: white;padding-right: 0.2em;padding-left: 0.2em;position: relative;}#sk-container-id-2 div.sk-item {position: relative;z-index: 1;}#sk-container-id-2 div.sk-parallel {display: flex;align-items: stretch;justify-content: center;background-color: white;position: relative;}#sk-container-id-2 div.sk-item::before, #sk-container-id-2 div.sk-parallel-item::before {content: \"\";position: absolute;border-left: 1px solid gray;box-sizing: border-box;top: 0;bottom: 0;left: 50%;z-index: -1;}#sk-container-id-2 div.sk-parallel-item {display: flex;flex-direction: column;z-index: 1;position: relative;background-color: white;}#sk-container-id-2 div.sk-parallel-item:first-child::after {align-self: flex-end;width: 50%;}#sk-container-id-2 div.sk-parallel-item:last-child::after {align-self: flex-start;width: 50%;}#sk-container-id-2 div.sk-parallel-item:only-child::after {width: 0;}#sk-container-id-2 div.sk-dashed-wrapped {border: 1px dashed gray;margin: 0 0.4em 0.5em 0.4em;box-sizing: border-box;padding-bottom: 0.4em;background-color: white;}#sk-container-id-2 div.sk-label label {font-family: monospace;font-weight: bold;display: inline-block;line-height: 1.2em;}#sk-container-id-2 div.sk-label-container {text-align: center;}#sk-container-id-2 div.sk-container {/* jupyter's `normalize.less` sets `[hidden] { display: none; }` but bootstrap.min.css set `[hidden] { display: none !important; }` so we also need the `!important` here to be able to override the default hidden behavior on the sphinx rendered scikit-learn.org. See: https://github.com/scikit-learn/scikit-learn/issues/21755 */display: inline-block !important;position: relative;}#sk-container-id-2 div.sk-text-repr-fallback {display: none;}</style><div id=\"sk-container-id-2\" class=\"sk-top-container\"><div class=\"sk-text-repr-fallback\"><pre>LinearRegression()</pre><b>In a Jupyter environment, please rerun this cell to show the HTML representation or trust the notebook. <br />On GitHub, the HTML representation is unable to render, please try loading this page with nbviewer.org.</b></div><div class=\"sk-container\" hidden><div class=\"sk-item\"><div class=\"sk-estimator sk-toggleable\"><input class=\"sk-toggleable__control sk-hidden--visually\" id=\"sk-estimator-id-2\" type=\"checkbox\" checked><label for=\"sk-estimator-id-2\" class=\"sk-toggleable__label sk-toggleable__label-arrow\">LinearRegression</label><div class=\"sk-toggleable__content\"><pre>LinearRegression()</pre></div></div></div></div></div>"
      ],
      "text/plain": [
       "LinearRegression()"
      ]
     },
     "execution_count": 124,
     "metadata": {},
     "output_type": "execute_result"
    }
   ],
   "source": [
    "# Fit the regression object onto the training set\n",
    "regression.fit(X_train, y_train)"
   ]
  },
  {
   "cell_type": "code",
   "execution_count": 125,
   "id": "e161b730",
   "metadata": {},
   "outputs": [],
   "source": [
    "# Predict the values of y using X\n",
    "y_predicted = regression.predict(X_test)"
   ]
  },
  {
   "cell_type": "code",
   "execution_count": 139,
   "id": "c9ac88ed",
   "metadata": {},
   "outputs": [
    {
     "data": {
      "image/png": "[encoded data removed]",
      "text/plain": [
       "<Figure size 640x480 with 1 Axes>"
      ]
     },
     "metadata": {},
     "output_type": "display_data"
    }
   ],
   "source": [
    "plot_test = plt\n",
    "plot_test.scatter(X_test, y_test, color = 'gray', s = 15)\n",
    "plot_test.plot(X_test, y_predicted, color='blue', linewidth = 3)\n",
    "plot_test.title('Freight Cost vs Price (Test set)')\n",
    "plot_test.xlabel('Price')\n",
    "plot_test.ylabel('Freight Cost')\n",
    "plot_test.show()"
   ]
  },
  {
   "cell_type": "markdown",
   "id": "6ceab1e1",
   "metadata": {},
   "source": [
    "The line does not seem to fit very well to the data. The data appears to have a weak positive relationship."
   ]
  },
  {
   "cell_type": "code",
   "execution_count": 127,
   "id": "a5a3a979",
   "metadata": {},
   "outputs": [],
   "source": [
    "# Create objects that contain the model summary statistics\n",
    "rmse = mean_squared_error(y_test, y_predicted)\n",
    "r2 = r2_score(y_test, y_predicted)"
   ]
  },
  {
   "cell_type": "code",
   "execution_count": 128,
   "id": "8e9b5235",
   "metadata": {},
   "outputs": [
    {
     "name": "stdout",
     "output_type": "stream",
     "text": [
      "Slope: [[0.03588056]]\n",
      "Mean squared erro: 201.22432314807034\n",
      "R2 score: 0.16429366574400073\n"
     ]
    }
   ],
   "source": [
    "# Print the model\n",
    "print('Slope:', regression.coef_)\n",
    "print('Mean squared erro:', rmse)\n",
    "print('R2 score:', r2)"
   ]
  },
  {
   "cell_type": "code",
   "execution_count": 129,
   "id": "423461ef",
   "metadata": {},
   "outputs": [
    {
     "data": {
      "text/plain": [
       "array([[21.97990226],\n",
       "       [18.80447246],\n",
       "       [19.62613734],\n",
       "       ...,\n",
       "       [19.64120718],\n",
       "       [22.14100599],\n",
       "       [29.87900815]])"
      ]
     },
     "execution_count": 129,
     "metadata": {},
     "output_type": "execute_result"
    }
   ],
   "source": [
    "y_predicted"
   ]
  },
  {
   "cell_type": "code",
   "execution_count": 132,
   "id": "5f021244",
   "metadata": {},
   "outputs": [
    {
     "data": {
      "text/html": [
       "<div>\n",
       "<style scoped>\n",
       "    .dataframe tbody tr th:only-of-type {\n",
       "        vertical-align: middle;\n",
       "    }\n",
       "\n",
       "    .dataframe tbody tr th {\n",
       "        vertical-align: top;\n",
       "    }\n",
       "\n",
       "    .dataframe thead th {\n",
       "        text-align: right;\n",
       "    }\n",
       "</style>\n",
       "<table border=\"1\" class=\"dataframe\">\n",
       "  <thead>\n",
       "    <tr style=\"text-align: right;\">\n",
       "      <th></th>\n",
       "      <th>Actual:</th>\n",
       "      <th>Predicted:</th>\n",
       "    </tr>\n",
       "  </thead>\n",
       "  <tbody>\n",
       "    <tr>\n",
       "      <th>0</th>\n",
       "      <td>18.80</td>\n",
       "      <td>21.979902</td>\n",
       "    </tr>\n",
       "    <tr>\n",
       "      <th>1</th>\n",
       "      <td>25.71</td>\n",
       "      <td>18.804472</td>\n",
       "    </tr>\n",
       "    <tr>\n",
       "      <th>2</th>\n",
       "      <td>10.96</td>\n",
       "      <td>19.626137</td>\n",
       "    </tr>\n",
       "    <tr>\n",
       "      <th>3</th>\n",
       "      <td>11.85</td>\n",
       "      <td>17.261249</td>\n",
       "    </tr>\n",
       "    <tr>\n",
       "      <th>4</th>\n",
       "      <td>19.23</td>\n",
       "      <td>17.333369</td>\n",
       "    </tr>\n",
       "    <tr>\n",
       "      <th>5</th>\n",
       "      <td>7.78</td>\n",
       "      <td>16.533233</td>\n",
       "    </tr>\n",
       "    <tr>\n",
       "      <th>6</th>\n",
       "      <td>15.14</td>\n",
       "      <td>21.061360</td>\n",
       "    </tr>\n",
       "    <tr>\n",
       "      <th>7</th>\n",
       "      <td>17.19</td>\n",
       "      <td>19.527466</td>\n",
       "    </tr>\n",
       "    <tr>\n",
       "      <th>8</th>\n",
       "      <td>17.63</td>\n",
       "      <td>17.329781</td>\n",
       "    </tr>\n",
       "    <tr>\n",
       "      <th>9</th>\n",
       "      <td>23.76</td>\n",
       "      <td>23.214194</td>\n",
       "    </tr>\n",
       "    <tr>\n",
       "      <th>10</th>\n",
       "      <td>27.61</td>\n",
       "      <td>23.540707</td>\n",
       "    </tr>\n",
       "    <tr>\n",
       "      <th>11</th>\n",
       "      <td>12.54</td>\n",
       "      <td>17.799817</td>\n",
       "    </tr>\n",
       "    <tr>\n",
       "      <th>12</th>\n",
       "      <td>16.60</td>\n",
       "      <td>18.908526</td>\n",
       "    </tr>\n",
       "    <tr>\n",
       "      <th>13</th>\n",
       "      <td>4.72</td>\n",
       "      <td>17.028385</td>\n",
       "    </tr>\n",
       "    <tr>\n",
       "      <th>14</th>\n",
       "      <td>18.27</td>\n",
       "      <td>19.988172</td>\n",
       "    </tr>\n",
       "    <tr>\n",
       "      <th>15</th>\n",
       "      <td>9.31</td>\n",
       "      <td>18.553309</td>\n",
       "    </tr>\n",
       "    <tr>\n",
       "      <th>16</th>\n",
       "      <td>22.91</td>\n",
       "      <td>17.796229</td>\n",
       "    </tr>\n",
       "    <tr>\n",
       "      <th>17</th>\n",
       "      <td>27.15</td>\n",
       "      <td>17.828521</td>\n",
       "    </tr>\n",
       "    <tr>\n",
       "      <th>18</th>\n",
       "      <td>39.90</td>\n",
       "      <td>51.527546</td>\n",
       "    </tr>\n",
       "    <tr>\n",
       "      <th>19</th>\n",
       "      <td>17.66</td>\n",
       "      <td>17.799458</td>\n",
       "    </tr>\n",
       "    <tr>\n",
       "      <th>20</th>\n",
       "      <td>15.18</td>\n",
       "      <td>17.832109</td>\n",
       "    </tr>\n",
       "    <tr>\n",
       "      <th>21</th>\n",
       "      <td>7.39</td>\n",
       "      <td>16.176939</td>\n",
       "    </tr>\n",
       "    <tr>\n",
       "      <th>22</th>\n",
       "      <td>15.11</td>\n",
       "      <td>16.935095</td>\n",
       "    </tr>\n",
       "    <tr>\n",
       "      <th>23</th>\n",
       "      <td>17.67</td>\n",
       "      <td>17.832109</td>\n",
       "    </tr>\n",
       "    <tr>\n",
       "      <th>24</th>\n",
       "      <td>8.29</td>\n",
       "      <td>19.270920</td>\n",
       "    </tr>\n",
       "    <tr>\n",
       "      <th>25</th>\n",
       "      <td>7.39</td>\n",
       "      <td>16.130294</td>\n",
       "    </tr>\n",
       "    <tr>\n",
       "      <th>26</th>\n",
       "      <td>13.37</td>\n",
       "      <td>16.935095</td>\n",
       "    </tr>\n",
       "    <tr>\n",
       "      <th>27</th>\n",
       "      <td>19.32</td>\n",
       "      <td>16.755692</td>\n",
       "    </tr>\n",
       "    <tr>\n",
       "      <th>28</th>\n",
       "      <td>22.93</td>\n",
       "      <td>16.827095</td>\n",
       "    </tr>\n",
       "    <tr>\n",
       "      <th>29</th>\n",
       "      <td>18.45</td>\n",
       "      <td>17.475098</td>\n",
       "    </tr>\n",
       "  </tbody>\n",
       "</table>\n",
       "</div>"
      ],
      "text/plain": [
       "    Actual:  Predicted:\n",
       "0     18.80   21.979902\n",
       "1     25.71   18.804472\n",
       "2     10.96   19.626137\n",
       "3     11.85   17.261249\n",
       "4     19.23   17.333369\n",
       "5      7.78   16.533233\n",
       "6     15.14   21.061360\n",
       "7     17.19   19.527466\n",
       "8     17.63   17.329781\n",
       "9     23.76   23.214194\n",
       "10    27.61   23.540707\n",
       "11    12.54   17.799817\n",
       "12    16.60   18.908526\n",
       "13     4.72   17.028385\n",
       "14    18.27   19.988172\n",
       "15     9.31   18.553309\n",
       "16    22.91   17.796229\n",
       "17    27.15   17.828521\n",
       "18    39.90   51.527546\n",
       "19    17.66   17.799458\n",
       "20    15.18   17.832109\n",
       "21     7.39   16.176939\n",
       "22    15.11   16.935095\n",
       "23    17.67   17.832109\n",
       "24     8.29   19.270920\n",
       "25     7.39   16.130294\n",
       "26    13.37   16.935095\n",
       "27    19.32   16.755692\n",
       "28    22.93   16.827095\n",
       "29    18.45   17.475098"
      ]
     },
     "execution_count": 132,
     "metadata": {},
     "output_type": "execute_result"
    }
   ],
   "source": [
    "# Create a dataframe comparing the actual and predicted\n",
    "data = pd.DataFrame({'Actual:': y_test.flatten(), 'Predicted:': y_predicted.flatten()})\n",
    "data.head(30)"
   ]
  },
  {
   "cell_type": "code",
   "execution_count": 133,
   "id": "eec07029",
   "metadata": {},
   "outputs": [],
   "source": [
    "# Predict\n",
    "y_predicted_train = regression.predict(X_train)"
   ]
  },
  {
   "cell_type": "code",
   "execution_count": 134,
   "id": "739d6d68",
   "metadata": {},
   "outputs": [],
   "source": [
    "rmse = mean_squared_error(y_train, y_predicted_train)\n",
    "r2 = r2_score(y_train, y_predicted_train)"
   ]
  },
  {
   "cell_type": "code",
   "execution_count": 136,
   "id": "b2b77f31",
   "metadata": {},
   "outputs": [
    {
     "name": "stdout",
     "output_type": "stream",
     "text": [
      "Slope: [[0.03588056]]\n",
      "Mean squared error: 206.11178345395518\n",
      "R2 score: 0.17278702812655067\n"
     ]
    }
   ],
   "source": [
    "print('Slope:', regression.coef_)\n",
    "print('Mean squared error:', rmse)\n",
    "print('R2 score:', r2)"
   ]
  },
  {
   "cell_type": "code",
   "execution_count": 140,
   "id": "30682426",
   "metadata": {},
   "outputs": [
    {
     "data": {
      "image/png": "[encoded data removed]",
      "text/plain": [
       "<Figure size 640x480 with 1 Axes>"
      ]
     },
     "metadata": {},
     "output_type": "display_data"
    }
   ],
   "source": [
    "# Visualizing the training set results\n",
    "\n",
    "plot_test = plt\n",
    "plot_test.scatter(X_train, y_train, color = 'green', s = 15)\n",
    "plot_test.plot(X_train, y_predicted_train, color = 'red', linewidth = 3)\n",
    "plot_test.title('Price vs Freight Cost (Train set)')\n",
    "plot_test.xlabel('Price')\n",
    "plot_test.ylabel('Freight Cost')\n",
    "plot_test.show()"
   ]
  },
  {
   "cell_type": "markdown",
   "id": "de0ee15d",
   "metadata": {},
   "source": [
    "The model fits the train set slightly better than the test set. This is good that the model did not overfit, but does insist that this is not a strong indicator of freight cost. "
   ]
  },
  {
   "cell_type": "code",
   "execution_count": null,
   "id": "034a363a",
   "metadata": {},
   "outputs": [],
   "source": []
  }
 ],
 "metadata": {
  "kernelspec": {
   "display_name": "Python 3 (ipykernel)",
   "language": "python",
   "name": "python3"
  },
  "language_info": {
   "codemirror_mode": {
    "name": "ipython",
    "version": 3
   },
   "file_extension": ".py",
   "mimetype": "text/x-python",
   "name": "python",
   "nbconvert_exporter": "python",
   "pygments_lexer": "ipython3",
   "version": "3.11.5"
  }
 },
 "nbformat": 4,
 "nbformat_minor": 5
}
